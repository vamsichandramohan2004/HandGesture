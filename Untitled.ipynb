{
 "cells": [
  {
   "cell_type": "code",
   "execution_count": 80,
   "id": "5f2039f5-0eed-4046-bbd7-792e4188ffc5",
   "metadata": {},
   "outputs": [],
   "source": [
    "import cv2\n",
    "import mediapipe as mp\n",
    "import pyautogui"
   ]
  },
  {
   "cell_type": "code",
   "execution_count": 82,
   "id": "c449e9ae-2d0f-405b-a06d-b2cfda5d95a9",
   "metadata": {},
   "outputs": [],
   "source": [
    "mp_hands = mp.solutions.hands # hand tracking\n",
    "mp_drawing = mp.solutions.drawing_utils # it gives the connections between lines\n",
    "hands = mp_hands.Hands() # initializes hand tracking"
   ]
  },
  {
   "cell_type": "code",
   "execution_count": 84,
   "id": "1cdc7349-a268-46d0-aa62-c10e206e3917",
   "metadata": {},
   "outputs": [],
   "source": [
    "cap = cv2.VideoCapture(0) # initializes camera 0 -> default camera"
   ]
  },
  {
   "cell_type": "code",
   "execution_count": 86,
   "id": "c834c3f0-242e-4fe4-a2ec-b0dda9c943ce",
   "metadata": {},
   "outputs": [],
   "source": [
    "def get_finger_status(hand_landmarks):\n",
    "    # Check if index and middle fingers are up\n",
    "    status = {\n",
    "        \"index\": hand_landmarks.landmark[8].y < hand_landmarks.landmark[6].y,\n",
    "        \"middle\": hand_landmarks.landmark[12].y < hand_landmarks.landmark[10].y\n",
    "    }\n",
    "    return status"
   ]
  },
  {
   "cell_type": "code",
   "execution_count": 88,
   "id": "b8405c0a-54ed-4d32-b954-78aa0a618cf6",
   "metadata": {},
   "outputs": [],
   "source": [
    "while True:\n",
    "    success, frame = cap.read()\n",
    "    if not success:\n",
    "        break\n",
    "\n",
    "    frame = cv2.flip(frame, 1)  # Flip camera view\n",
    "    rgb = cv2.cvtColor(frame, cv2.COLOR_BGR2RGB)\n",
    "    res = hands.process(rgb)\n",
    "\n",
    "    if res.multi_hand_landmarks:\n",
    "        for hand_landmarks in res.multi_hand_landmarks:\n",
    "            finger_status = get_finger_status(hand_landmarks)\n",
    "\n",
    "            if finger_status[\"index\"] and finger_status[\"middle\"]:\n",
    "                pyautogui.scroll(20)  # Scroll up\n",
    "            elif not finger_status[\"index\"] and not finger_status[\"middle\"]:\n",
    "                pyautogui.scroll(-20)  # Scroll down\n",
    "\n",
    "            mp_drawing.draw_landmarks(frame, hand_landmarks, mp_hands.HAND_CONNECTIONS)\n",
    "\n",
    "    cv2.imshow(\"Hand Gesture Scrolling\", frame)\n",
    "\n",
    "    if cv2.waitKey(1) == 27:\n",
    "        break\n",
    "\n",
    "cap.release()\n",
    "cv2.destroyAllWindows()"
   ]
  },
  {
   "cell_type": "code",
   "execution_count": null,
   "id": "75eb9dde-d7a3-4f6e-8a3b-572dbaf0e423",
   "metadata": {},
   "outputs": [],
   "source": []
  },
  {
   "cell_type": "code",
   "execution_count": null,
   "id": "66724dc4-c293-4a9f-9b93-ed42651ec51e",
   "metadata": {},
   "outputs": [],
   "source": []
  }
 ],
 "metadata": {
  "kernelspec": {
   "display_name": "Python [conda env:base] *",
   "language": "python",
   "name": "conda-base-py"
  },
  "language_info": {
   "codemirror_mode": {
    "name": "ipython",
    "version": 3
   },
   "file_extension": ".py",
   "mimetype": "text/x-python",
   "name": "python",
   "nbconvert_exporter": "python",
   "pygments_lexer": "ipython3",
   "version": "3.12.3"
  }
 },
 "nbformat": 4,
 "nbformat_minor": 5
}
